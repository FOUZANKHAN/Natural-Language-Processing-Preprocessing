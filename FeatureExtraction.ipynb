{
 "cells": [
  {
   "cell_type": "code",
   "execution_count": 26,
   "metadata": {
    "id": "GWaMqU0B1fFj"
   },
   "outputs": [],
   "source": [
    "import pandas as pd\n",
    "from sklearn.model_selection import train_test_split\n",
    "from sklearn.feature_extraction.text import CountVectorizer, TfidfVectorizer\n",
    "from sklearn.naive_bayes import MultinomialNB\n",
    "from sklearn.metrics import classification_report\n",
    "from sklearn.metrics import confusion_matrix, accuracy_score, classification_report\n",
    "import string\n",
    "import nltk\n",
    "from sklearn.linear_model import LogisticRegression\n",
    "from sklearn.svm import SVC\n",
    "from nltk.corpus import stopwords\n",
    "from nltk.tokenize import word_tokenize\n",
    "from nltk.stem import WordNetLemmatizer\n",
    "from nltk.stem import PorterStemmer\n",
    "import re\n",
    "from tqdm.auto import tqdm\n",
    "from nltk.probability import FreqDist\n",
    "from nltk import bigrams\n",
    "import csv\n",
    "import matplotlib.pyplot as plt\n",
    "from collections import Counter\n",
    "from sklearn.preprocessing import MinMaxScaler, StandardScaler\n",
    "import seaborn as sns\n",
    "\n",
    "tqdm.pandas()"
   ]
  },
  {
   "cell_type": "code",
   "execution_count": 2,
   "metadata": {
    "id": "jyFqlk0j2M8I"
   },
   "outputs": [],
   "source": [
    "df = pd.read_csv('/content/Reviews.csv',encoding='utf-8')"
   ]
  },
  {
   "cell_type": "code",
   "execution_count": 3,
   "metadata": {
    "colab": {
     "base_uri": "https://localhost:8080/"
    },
    "id": "1QiCtmRE3XFY",
    "outputId": "7b44eede-dc23-4658-941b-6c0f47db4035"
   },
   "outputs": [
    {
     "data": {
      "text/plain": [
       "Index(['Id', 'ProductId', 'UserId', 'ProfileName', 'HelpfulnessNumerator',\n",
       "       'HelpfulnessDenominator', 'Score', 'Time', 'Summary', 'Text'],\n",
       "      dtype='object')"
      ]
     },
     "execution_count": 3,
     "metadata": {},
     "output_type": "execute_result"
    }
   ],
   "source": [
    "df.columns"
   ]
  },
  {
   "cell_type": "code",
   "execution_count": 4,
   "metadata": {
    "id": "TDQBWu76Oa8V"
   },
   "outputs": [],
   "source": [
    "not_needed = ['Id','ProductId','UserId','ProfileName','HelpfulnessNumerator','HelpfulnessDenominator','Time', 'Summary',]\n",
    "df = df.drop(not_needed, axis =1)\n"
   ]
  },
  {
   "cell_type": "code",
   "execution_count": 5,
   "metadata": {
    "colab": {
     "base_uri": "https://localhost:8080/"
    },
    "id": "XcBBiy1q4pgM",
    "outputId": "ad28fd26-1b44-4d57-8be9-b13f48d7cb4f"
   },
   "outputs": [
    {
     "data": {
      "text/plain": [
       "Score     int64\n",
       "Text     object\n",
       "dtype: object"
      ]
     },
     "execution_count": 5,
     "metadata": {},
     "output_type": "execute_result"
    }
   ],
   "source": [
    "df.dtypes"
   ]
  },
  {
   "cell_type": "code",
   "execution_count": 6,
   "metadata": {
    "colab": {
     "base_uri": "https://localhost:8080/"
    },
    "id": "HkeDXPJ3UodM",
    "outputId": "35d3aed4-a3a3-42ab-9fb0-ae3ff476827c"
   },
   "outputs": [
    {
     "data": {
      "text/plain": [
       "5    363122\n",
       "4     80655\n",
       "1     52268\n",
       "3     42640\n",
       "2     29769\n",
       "Name: Score, dtype: int64"
      ]
     },
     "execution_count": 6,
     "metadata": {},
     "output_type": "execute_result"
    }
   ],
   "source": [
    "df['Score'].value_counts()"
   ]
  },
  {
   "cell_type": "code",
   "execution_count": 7,
   "metadata": {
    "id": "JJUPxvhFVT15"
   },
   "outputs": [],
   "source": [
    "sample_data = df[:100000]"
   ]
  },
  {
   "cell_type": "code",
   "execution_count": 8,
   "metadata": {
    "colab": {
     "base_uri": "https://localhost:8080/"
    },
    "id": "8HyAc2VcrSJ5",
    "outputId": "b0d8614e-9641-4f51-d52d-beb16d3bead3"
   },
   "outputs": [
    {
     "data": {
      "text/plain": [
       "(568454, 2)"
      ]
     },
     "execution_count": 8,
     "metadata": {},
     "output_type": "execute_result"
    }
   ],
   "source": [
    "df.shape"
   ]
  },
  {
   "cell_type": "code",
   "execution_count": 9,
   "metadata": {
    "colab": {
     "base_uri": "https://localhost:8080/"
    },
    "id": "eUebCT8bhNL2",
    "outputId": "9b8cf21c-18d2-401f-f3b7-28091c10d6f4"
   },
   "outputs": [
    {
     "name": "stderr",
     "output_type": "stream",
     "text": [
      "[nltk_data] Downloading package stopwords to /root/nltk_data...\n",
      "[nltk_data]   Package stopwords is already up-to-date!\n",
      "[nltk_data] Downloading package punkt to /root/nltk_data...\n",
      "[nltk_data]   Package punkt is already up-to-date!\n",
      "[nltk_data] Downloading package wordnet to /root/nltk_data...\n",
      "[nltk_data]   Package wordnet is already up-to-date!\n"
     ]
    },
    {
     "data": {
      "text/plain": [
       "True"
      ]
     },
     "execution_count": 9,
     "metadata": {},
     "output_type": "execute_result"
    }
   ],
   "source": [
    "nltk.download('stopwords')\n",
    "nltk.download('punkt')\n",
    "nltk.download('wordnet')"
   ]
  },
  {
   "cell_type": "code",
   "execution_count": 10,
   "metadata": {
    "id": "CDnJn7g2f-x5"
   },
   "outputs": [],
   "source": [
    "test = \"My husband is a Twizzlers addict.  We've bought these many times from Amazon because we're government employees living overseas and can't get them in the country we are assigned to.  They've always been fresh and tasty, packed well and arrive in a timely manner.\""
   ]
  },
  {
   "cell_type": "code",
   "execution_count": 34,
   "metadata": {
    "id": "4BUW2famfUvX"
   },
   "outputs": [],
   "source": [
    "def my_new_tokenizer(text):\n",
    "    '''This tokenizer is created to remove all the unnecessary values'''\n",
    "    text = text.lower()\n",
    "    text = ''.join(char for char in text if char not in string.punctuation)\n",
    "    tokens = word_tokenize(text)\n",
    "    stop_words = set(stopwords.words('english'))\n",
    "    tokens = [word for word in tokens if word not in stop_words]\n",
    "    lemmatizer = WordNetLemmatizer()\n",
    "    ftokens = [lemmatizer.lemmatize(word) for word in tokens]\n",
    "\n",
    "    return ftokens"
   ]
  },
  {
   "cell_type": "code",
   "execution_count": 35,
   "metadata": {
    "id": "znbKuWN0iny_"
   },
   "outputs": [],
   "source": [
    "#I created a sample data which is relatively very small\n",
    "scaler = StandardScaler()\n",
    "X = df['Text']\n",
    "y = df['Score']\n",
    "X_train, X_test, y_train, y_test = train_test_split(X, y, test_size = 0.2,random_state = 96)\n",
    "#X_train_scaled = scaler.fit_transform(X_train)\n",
    "#X_test_scaled = scaler.fit_transform(X_test)\n"
   ]
  },
  {
   "cell_type": "code",
   "execution_count": 36,
   "metadata": {
    "colab": {
     "base_uri": "https://localhost:8080/"
    },
    "id": "9j4QYTGRwz5-",
    "outputId": "0fc3afbb-2797-4bd1-8767-df62097b7e3b"
   },
   "outputs": [
    {
     "data": {
      "text/plain": [
       "(113691,)"
      ]
     },
     "execution_count": 36,
     "metadata": {},
     "output_type": "execute_result"
    }
   ],
   "source": [
    "y_test.shape"
   ]
  },
  {
   "cell_type": "code",
   "execution_count": 37,
   "metadata": {
    "colab": {
     "base_uri": "https://localhost:8080/"
    },
    "id": "ETFFNeC3ob1e",
    "outputId": "54b0b277-3823-4fd2-edfd-f9e1f218f4c2"
   },
   "outputs": [
    {
     "data": {
      "text/plain": [
       "189580    This oil is just awesome! You can cook with it...\n",
       "566157    I love this product, PB2 is great! I love bein...\n",
       "481254    I bought these jimmies because I couldn't find...\n",
       "173659    This little gem became a big hit with kids and...\n",
       "503696    I've had a LOT of raw chocolate bars. Nothing ...\n",
       "                                ...                        \n",
       "415348    My cat takes two types of heart medication; on...\n",
       "2412      I have been drinking Tully's Kona for the past...\n",
       "337318    I really, really, really like pecans. These ar...\n",
       "553946    This is a dark, chocolaty cofee. Grind works w...\n",
       "374868    this drink mix is good but in civilian grocery...\n",
       "Name: Text, Length: 454763, dtype: object"
      ]
     },
     "execution_count": 37,
     "metadata": {},
     "output_type": "execute_result"
    }
   ],
   "source": [
    "X_train\n"
   ]
  },
  {
   "cell_type": "code",
   "execution_count": 119,
   "metadata": {
    "colab": {
     "base_uri": "https://localhost:8080/",
     "height": 49,
     "referenced_widgets": [
      "c24b82a9dea749cab505c55d4691e001",
      "3169db91d4ed4369bd64d0081473897c",
      "1d12af97b8874475b3491875173a1c99",
      "11f1afc6482241d0bcd1a99b3faf977d",
      "f816b28029dd446f8381fb38a02786f3",
      "d48f54b9106948f893a5f26a58549d87",
      "6a0a191fd3384dce89a72bc699038bb0",
      "8d76bd3e4da8406e819dd8fd54261bea",
      "95c8a351eb1d4634a16f80300e40139c",
      "c50787a958a94ed5afd0aca3d42608ee",
      "575f628ed4cd470ca5bea22c6e020c2f"
     ]
    },
    "id": "DsyHQ7tDkPiZ",
    "outputId": "afe290e9-f3ec-4333-fe4d-1e0b7f0279db"
   },
   "outputs": [
    {
     "data": {
      "application/vnd.jupyter.widget-view+json": {
       "model_id": "c24b82a9dea749cab505c55d4691e001",
       "version_major": 2,
       "version_minor": 0
      },
      "text/plain": [
       "Tokenizing X_train:   0%|          | 0/8000 [00:00<?, ?it/s]"
      ]
     },
     "metadata": {},
     "output_type": "display_data"
    }
   ],
   "source": [
    "#X_train['Text'] = X_train['Text'].progress_apply(my_new_tokenizer)"
   ]
  },
  {
   "cell_type": "code",
   "execution_count": 121,
   "metadata": {
    "colab": {
     "base_uri": "https://localhost:8080/",
     "height": 49,
     "referenced_widgets": [
      "242ab25e537a4a4eb2cbab4907f9ffff",
      "0c946985e84d498fb41c53c135772df9",
      "0e91a4a6cb0e447fba98eba374097148",
      "115a4546e8c94cf0a0be827417f548b9",
      "79bd0482f4474b438cd8a7128e3224ec",
      "a36b64fdc0b34e10bf2e614ab6dd6e63",
      "bf7667047d9c413eb52198ef1cb904ed",
      "50ce318b2f91419f952c949fac8df51b",
      "314f153930c14a12a2c8362845baf322",
      "cbb7d88d8ccf4dfba3a32fb6c5aa6ec4",
      "b83dbb6a609e4add91a3f4f6f7e5ba03"
     ]
    },
    "id": "m62I8S6Ionuu",
    "outputId": "68024e23-5df9-4907-a2b1-6b528b8ea5cf"
   },
   "outputs": [
    {
     "data": {
      "application/vnd.jupyter.widget-view+json": {
       "model_id": "242ab25e537a4a4eb2cbab4907f9ffff",
       "version_major": 2,
       "version_minor": 0
      },
      "text/plain": [
       "Tokenizing X_train:   0%|          | 0/2000 [00:00<?, ?it/s]"
      ]
     },
     "metadata": {},
     "output_type": "display_data"
    }
   ],
   "source": [
    "#X_test['Text'] = X_test['Text'].progress_apply(my_new_tokenizer)"
   ]
  },
  {
   "cell_type": "code",
   "execution_count": 38,
   "metadata": {
    "id": "nAdjUneTomF_"
   },
   "outputs": [],
   "source": [
    "def generate_feature_extraction(X_train, X_test):\n",
    "  '''X_train and X_test is given to generate new features using different techniques'''\n",
    "  vectorizer_bow = CountVectorizer(tokenizer=my_new_tokenizer, stop_words=stopwords.words('english'), max_features = 200)\n",
    "  X_train_bow = vectorizer_bow.fit_transform(X_train)\n",
    "  X_test_bow = vectorizer_bow.transform(X_test)\n",
    "\n",
    "  vectorizer_tfidf = TfidfVectorizer(tokenizer=my_new_tokenizer, stop_words=stopwords.words('english'), max_features = 200)\n",
    "  X_train_tfidf = vectorizer_tfidf.fit_transform(X_train)\n",
    "  X_test_tfidf = vectorizer_tfidf.transform(X_test)\n",
    "\n",
    "  ngram_range = (1, 2)\n",
    "  vectorizer_ngrams = CountVectorizer(tokenizer=my_new_tokenizer, stop_words=stopwords.words('english'), ngram_range=ngram_range, max_features = 200)\n",
    "  X_train_ngrams = vectorizer_ngrams.fit_transform(X_train)\n",
    "  X_test_ngrams = vectorizer_ngrams.transform(X_test)\n",
    "  return X_train_bow, X_test_bow, X_train_tfidf, X_test_tfidf, X_train_ngrams, X_test_ngrams"
   ]
  },
  {
   "cell_type": "code",
   "execution_count": 39,
   "metadata": {
    "colab": {
     "base_uri": "https://localhost:8080/"
    },
    "id": "a4WocbmKtNX2",
    "outputId": "e6e10ff0-df42-4350-f08c-a5cc7b7e28a6"
   },
   "outputs": [
    {
     "name": "stderr",
     "output_type": "stream",
     "text": [
      "/usr/local/lib/python3.10/dist-packages/sklearn/feature_extraction/text.py:528: UserWarning: The parameter 'token_pattern' will not be used since 'tokenizer' is not None'\n",
      "  warnings.warn(\n",
      "/usr/local/lib/python3.10/dist-packages/sklearn/feature_extraction/text.py:409: UserWarning: Your stop_words may be inconsistent with your preprocessing. Tokenizing the stop words generated tokens ['arent', 'couldnt', 'didnt', 'doesnt', 'dont', 'hadnt', 'hasnt', 'havent', 'isnt', 'mightnt', 'mustnt', 'neednt', 'shant', 'shes', 'shouldnt', 'shouldve', 'thatll', 'wasnt', 'werent', 'wont', 'wouldnt', 'youd', 'youll', 'youre', 'youve'] not in stop_words.\n",
      "  warnings.warn(\n"
     ]
    }
   ],
   "source": [
    "X_train_bag, X_test_bag, X_train_tfidf, X_test_tfidf, X_train_ngr, X_test_ngr = generate_feature_extraction(X_train,X_test)"
   ]
  },
  {
   "cell_type": "code",
   "execution_count": 40,
   "metadata": {
    "id": "2tM7rnZZtdOB"
   },
   "outputs": [],
   "source": [
    "model_list = ['lr','SVM']\n",
    "def modelling(training_data, testing_data, training_class, testing_class,model_type):\n",
    "  '''training data would be X_train, testing_data X_test, Training class = y_train, Testingclass = y_test'''\n",
    "  models = {\n",
    "      'lr': LogisticRegression(max_iter = 1000),\n",
    "      'SVM': SVC(max_iter = 700)\n",
    "  }\n",
    "  model = models[model_type]\n",
    "  model.fit(training_data,training_class)\n",
    "  predictions = model.predict(testing_data)\n",
    "  conf_matrix = confusion_matrix(testing_class, predictions)\n",
    "  accuracy = accuracy_score(testing_class, predictions)\n",
    "  report = classification_report(testing_class, predictions)\n",
    "  print(conf_matrix)\n",
    "  print(\"\\n\")\n",
    "  print(accuracy)\n",
    "  print(\"\\n\")\n",
    "  print(report)\n"
   ]
  },
  {
   "cell_type": "code",
   "execution_count": 41,
   "metadata": {
    "id": "twARIra4u1An"
   },
   "outputs": [],
   "source": [
    "def evaluation(training_data, testing_data, training_class, testing_class, flag):\n",
    "    #use standardized data\n",
    "    datatype = ['Bag of Words','Tf-IDF','N-grams']\n",
    "    model_list = ['lr','SVM']\n",
    "    for model in model_list:\n",
    "        print(f'The data used in these models is based on {datatype[flag]}')\n",
    "        print(f'This is the Confusion Matrix, Accuracy and Classification report of {model}')\n",
    "        modelling(training_data,testing_data, training_class, testing_class, model)\n"
   ]
  },
  {
   "cell_type": "code",
   "execution_count": 42,
   "metadata": {
    "colab": {
     "base_uri": "https://localhost:8080/"
    },
    "id": "7oDGsIZEvOQO",
    "outputId": "7bb0b126-4060-4937-986c-8cb3daf86f03"
   },
   "outputs": [
    {
     "name": "stdout",
     "output_type": "stream",
     "text": [
      "The data used in these models is based on Bag of Words\n",
      "This is the Confusion Matrix, Accuracy and Classification report of lr\n",
      "[[ 3053   101   225   173  6873]\n",
      " [  984   143   341   289  4211]\n",
      " [  784   128   773   818  6088]\n",
      " [  465   108   507  2009 13032]\n",
      " [ 1239   111   398  1163 69675]]\n",
      "\n",
      "\n",
      "0.6654264629566105\n",
      "\n",
      "\n",
      "              precision    recall  f1-score   support\n",
      "\n",
      "           1       0.47      0.29      0.36     10425\n",
      "           2       0.24      0.02      0.04      5968\n",
      "           3       0.34      0.09      0.14      8591\n",
      "           4       0.45      0.12      0.20     16121\n",
      "           5       0.70      0.96      0.81     72586\n",
      "\n",
      "    accuracy                           0.67    113691\n",
      "   macro avg       0.44      0.30      0.31    113691\n",
      "weighted avg       0.59      0.67      0.59    113691\n",
      "\n",
      "The data used in these models is based on Bag of Words\n",
      "This is the Confusion Matrix, Accuracy and Classification report of SVM\n"
     ]
    },
    {
     "name": "stderr",
     "output_type": "stream",
     "text": [
      "/usr/local/lib/python3.10/dist-packages/sklearn/svm/_base.py:299: ConvergenceWarning: Solver terminated early (max_iter=700).  Consider pre-processing your data with StandardScaler or MinMaxScaler.\n",
      "  warnings.warn(\n"
     ]
    },
    {
     "name": "stdout",
     "output_type": "stream",
     "text": [
      "[[ 4410   383   175   208  5249]\n",
      " [ 2708   311    95   121  2733]\n",
      " [ 4167   343   163   215  3703]\n",
      " [ 7192   664   284   436  7545]\n",
      " [25151  2021   973  1831 42610]]\n",
      "\n",
      "\n",
      "0.4215813037091766\n",
      "\n",
      "\n",
      "              precision    recall  f1-score   support\n",
      "\n",
      "           1       0.10      0.42      0.16     10425\n",
      "           2       0.08      0.05      0.06      5968\n",
      "           3       0.10      0.02      0.03      8591\n",
      "           4       0.16      0.03      0.05     16121\n",
      "           5       0.69      0.59      0.63     72586\n",
      "\n",
      "    accuracy                           0.42    113691\n",
      "   macro avg       0.23      0.22      0.19    113691\n",
      "weighted avg       0.48      0.42      0.43    113691\n",
      "\n"
     ]
    }
   ],
   "source": [
    "#These are the values for the standardized dataset\n",
    "evaluation(X_train_bag, X_test_bag, y_train, y_test,0)"
   ]
  },
  {
   "cell_type": "code",
   "execution_count": 43,
   "metadata": {
    "colab": {
     "base_uri": "https://localhost:8080/"
    },
    "id": "Kx720dOVvVuR",
    "outputId": "9c54cf85-0403-4ed6-988e-5066efa406a1"
   },
   "outputs": [
    {
     "name": "stdout",
     "output_type": "stream",
     "text": [
      "The data used in these models is based on Tf-IDF\n",
      "This is the Confusion Matrix, Accuracy and Classification report of lr\n",
      "[[ 3675   127   271   235  6117]\n",
      " [ 1113   119   400   332  4004]\n",
      " [  878   129   758   917  5909]\n",
      " [  557    62   519  2090 12893]\n",
      " [ 1772    65   399  1212 69138]]\n",
      "\n",
      "\n",
      "0.6665435258727603\n",
      "\n",
      "\n",
      "              precision    recall  f1-score   support\n",
      "\n",
      "           1       0.46      0.35      0.40     10425\n",
      "           2       0.24      0.02      0.04      5968\n",
      "           3       0.32      0.09      0.14      8591\n",
      "           4       0.44      0.13      0.20     16121\n",
      "           5       0.71      0.95      0.81     72586\n",
      "\n",
      "    accuracy                           0.67    113691\n",
      "   macro avg       0.43      0.31      0.32    113691\n",
      "weighted avg       0.59      0.67      0.59    113691\n",
      "\n",
      "The data used in these models is based on Tf-IDF\n",
      "This is the Confusion Matrix, Accuracy and Classification report of SVM\n"
     ]
    },
    {
     "name": "stderr",
     "output_type": "stream",
     "text": [
      "/usr/local/lib/python3.10/dist-packages/sklearn/svm/_base.py:299: ConvergenceWarning: Solver terminated early (max_iter=700).  Consider pre-processing your data with StandardScaler or MinMaxScaler.\n",
      "  warnings.warn(\n"
     ]
    },
    {
     "name": "stdout",
     "output_type": "stream",
     "text": [
      "[[ 5427  2228   730  1169   871]\n",
      " [ 2334  1609   567   946   512]\n",
      " [ 2650  2083  1168  1800   890]\n",
      " [ 3856  3194  2203  4334  2534]\n",
      " [18289 12612  7603 15881 18201]]\n",
      "\n",
      "\n",
      "0.270373204563246\n",
      "\n",
      "\n",
      "              precision    recall  f1-score   support\n",
      "\n",
      "           1       0.17      0.52      0.25     10425\n",
      "           2       0.07      0.27      0.12      5968\n",
      "           3       0.10      0.14      0.11      8591\n",
      "           4       0.18      0.27      0.22     16121\n",
      "           5       0.79      0.25      0.38     72586\n",
      "\n",
      "    accuracy                           0.27    113691\n",
      "   macro avg       0.26      0.29      0.22    113691\n",
      "weighted avg       0.56      0.27      0.31    113691\n",
      "\n"
     ]
    }
   ],
   "source": [
    "#These are the values for the standardized dataset\n",
    "evaluation(X_train_tfidf, X_test_tfidf, y_train, y_test,1)"
   ]
  },
  {
   "cell_type": "code",
   "execution_count": 44,
   "metadata": {
    "colab": {
     "base_uri": "https://localhost:8080/"
    },
    "id": "DOFlIqtwvWZU",
    "outputId": "f8b8c592-3632-41ec-870c-e5ee1e84f1b8"
   },
   "outputs": [
    {
     "name": "stdout",
     "output_type": "stream",
     "text": [
      "The data used in these models is based on N-grams\n",
      "This is the Confusion Matrix, Accuracy and Classification report of lr\n",
      "[[ 3073   103   239   166  6844]\n",
      " [  991   150   338   278  4211]\n",
      " [  784   120   783   807  6097]\n",
      " [  452   105   529  2009 13026]\n",
      " [ 1232   108   400  1166 69680]]\n",
      "\n",
      "\n",
      "0.6657958853383293\n",
      "\n",
      "\n",
      "              precision    recall  f1-score   support\n",
      "\n",
      "           1       0.47      0.29      0.36     10425\n",
      "           2       0.26      0.03      0.05      5968\n",
      "           3       0.34      0.09      0.14      8591\n",
      "           4       0.45      0.12      0.20     16121\n",
      "           5       0.70      0.96      0.81     72586\n",
      "\n",
      "    accuracy                           0.67    113691\n",
      "   macro avg       0.44      0.30      0.31    113691\n",
      "weighted avg       0.59      0.67      0.59    113691\n",
      "\n",
      "The data used in these models is based on N-grams\n",
      "This is the Confusion Matrix, Accuracy and Classification report of SVM\n"
     ]
    },
    {
     "name": "stderr",
     "output_type": "stream",
     "text": [
      "/usr/local/lib/python3.10/dist-packages/sklearn/svm/_base.py:299: ConvergenceWarning: Solver terminated early (max_iter=700).  Consider pre-processing your data with StandardScaler or MinMaxScaler.\n",
      "  warnings.warn(\n"
     ]
    },
    {
     "name": "stdout",
     "output_type": "stream",
     "text": [
      "[[ 4370   349   215   483  5008]\n",
      " [ 2724   197   133   284  2630]\n",
      " [ 4172   260   216   355  3588]\n",
      " [ 7188   422   415   772  7324]\n",
      " [24758  1727  1489  3099 41513]]\n",
      "\n",
      "\n",
      "0.4139993491129465\n",
      "\n",
      "\n",
      "              precision    recall  f1-score   support\n",
      "\n",
      "           1       0.10      0.42      0.16     10425\n",
      "           2       0.07      0.03      0.04      5968\n",
      "           3       0.09      0.03      0.04      8591\n",
      "           4       0.15      0.05      0.07     16121\n",
      "           5       0.69      0.57      0.63     72586\n",
      "\n",
      "    accuracy                           0.41    113691\n",
      "   macro avg       0.22      0.22      0.19    113691\n",
      "weighted avg       0.48      0.41      0.43    113691\n",
      "\n"
     ]
    }
   ],
   "source": [
    "#These are the values for the standardized dataset\n",
    "evaluation(X_train_ngr, X_test_ngr, y_train, y_test,2)"
   ]
  },
  {
   "cell_type": "code",
   "execution_count": null,
   "metadata": {
    "id": "mn7lKhrl_sQC"
   },
   "outputs": [],
   "source": []
  }
 ],
 "metadata": {
  "colab": {
   "provenance": [],
   "toc_visible": true
  },
  "kernelspec": {
   "display_name": "Python 3 (ipykernel)",
   "language": "python",
   "name": "python3"
  },
  "language_info": {
   "codemirror_mode": {
    "name": "ipython",
    "version": 3
   },
   "file_extension": ".py",
   "mimetype": "text/x-python",
   "name": "python",
   "nbconvert_exporter": "python",
   "pygments_lexer": "ipython3",
   "version": "3.11.5"
  },
  "widgets": {
   "application/vnd.jupyter.widget-state+json": {
    "0c946985e84d498fb41c53c135772df9": {
     "model_module": "@jupyter-widgets/controls",
     "model_module_version": "1.5.0",
     "model_name": "HTMLModel",
     "state": {
      "_dom_classes": [],
      "_model_module": "@jupyter-widgets/controls",
      "_model_module_version": "1.5.0",
      "_model_name": "HTMLModel",
      "_view_count": null,
      "_view_module": "@jupyter-widgets/controls",
      "_view_module_version": "1.5.0",
      "_view_name": "HTMLView",
      "description": "",
      "description_tooltip": null,
      "layout": "IPY_MODEL_a36b64fdc0b34e10bf2e614ab6dd6e63",
      "placeholder": "​",
      "style": "IPY_MODEL_bf7667047d9c413eb52198ef1cb904ed",
      "value": "Tokenizing X_train: 100%"
     }
    },
    "0e91a4a6cb0e447fba98eba374097148": {
     "model_module": "@jupyter-widgets/controls",
     "model_module_version": "1.5.0",
     "model_name": "FloatProgressModel",
     "state": {
      "_dom_classes": [],
      "_model_module": "@jupyter-widgets/controls",
      "_model_module_version": "1.5.0",
      "_model_name": "FloatProgressModel",
      "_view_count": null,
      "_view_module": "@jupyter-widgets/controls",
      "_view_module_version": "1.5.0",
      "_view_name": "ProgressView",
      "bar_style": "success",
      "description": "",
      "description_tooltip": null,
      "layout": "IPY_MODEL_50ce318b2f91419f952c949fac8df51b",
      "max": 2000,
      "min": 0,
      "orientation": "horizontal",
      "style": "IPY_MODEL_314f153930c14a12a2c8362845baf322",
      "value": 2000
     }
    },
    "115a4546e8c94cf0a0be827417f548b9": {
     "model_module": "@jupyter-widgets/controls",
     "model_module_version": "1.5.0",
     "model_name": "HTMLModel",
     "state": {
      "_dom_classes": [],
      "_model_module": "@jupyter-widgets/controls",
      "_model_module_version": "1.5.0",
      "_model_name": "HTMLModel",
      "_view_count": null,
      "_view_module": "@jupyter-widgets/controls",
      "_view_module_version": "1.5.0",
      "_view_name": "HTMLView",
      "description": "",
      "description_tooltip": null,
      "layout": "IPY_MODEL_cbb7d88d8ccf4dfba3a32fb6c5aa6ec4",
      "placeholder": "​",
      "style": "IPY_MODEL_b83dbb6a609e4add91a3f4f6f7e5ba03",
      "value": " 2000/2000 [00:02&lt;00:00, 808.06it/s]"
     }
    },
    "11f1afc6482241d0bcd1a99b3faf977d": {
     "model_module": "@jupyter-widgets/controls",
     "model_module_version": "1.5.0",
     "model_name": "HTMLModel",
     "state": {
      "_dom_classes": [],
      "_model_module": "@jupyter-widgets/controls",
      "_model_module_version": "1.5.0",
      "_model_name": "HTMLModel",
      "_view_count": null,
      "_view_module": "@jupyter-widgets/controls",
      "_view_module_version": "1.5.0",
      "_view_name": "HTMLView",
      "description": "",
      "description_tooltip": null,
      "layout": "IPY_MODEL_c50787a958a94ed5afd0aca3d42608ee",
      "placeholder": "​",
      "style": "IPY_MODEL_575f628ed4cd470ca5bea22c6e020c2f",
      "value": " 8000/8000 [00:07&lt;00:00, 1308.05it/s]"
     }
    },
    "1d12af97b8874475b3491875173a1c99": {
     "model_module": "@jupyter-widgets/controls",
     "model_module_version": "1.5.0",
     "model_name": "FloatProgressModel",
     "state": {
      "_dom_classes": [],
      "_model_module": "@jupyter-widgets/controls",
      "_model_module_version": "1.5.0",
      "_model_name": "FloatProgressModel",
      "_view_count": null,
      "_view_module": "@jupyter-widgets/controls",
      "_view_module_version": "1.5.0",
      "_view_name": "ProgressView",
      "bar_style": "success",
      "description": "",
      "description_tooltip": null,
      "layout": "IPY_MODEL_8d76bd3e4da8406e819dd8fd54261bea",
      "max": 8000,
      "min": 0,
      "orientation": "horizontal",
      "style": "IPY_MODEL_95c8a351eb1d4634a16f80300e40139c",
      "value": 8000
     }
    },
    "242ab25e537a4a4eb2cbab4907f9ffff": {
     "model_module": "@jupyter-widgets/controls",
     "model_module_version": "1.5.0",
     "model_name": "HBoxModel",
     "state": {
      "_dom_classes": [],
      "_model_module": "@jupyter-widgets/controls",
      "_model_module_version": "1.5.0",
      "_model_name": "HBoxModel",
      "_view_count": null,
      "_view_module": "@jupyter-widgets/controls",
      "_view_module_version": "1.5.0",
      "_view_name": "HBoxView",
      "box_style": "",
      "children": [
       "IPY_MODEL_0c946985e84d498fb41c53c135772df9",
       "IPY_MODEL_0e91a4a6cb0e447fba98eba374097148",
       "IPY_MODEL_115a4546e8c94cf0a0be827417f548b9"
      ],
      "layout": "IPY_MODEL_79bd0482f4474b438cd8a7128e3224ec"
     }
    },
    "314f153930c14a12a2c8362845baf322": {
     "model_module": "@jupyter-widgets/controls",
     "model_module_version": "1.5.0",
     "model_name": "ProgressStyleModel",
     "state": {
      "_model_module": "@jupyter-widgets/controls",
      "_model_module_version": "1.5.0",
      "_model_name": "ProgressStyleModel",
      "_view_count": null,
      "_view_module": "@jupyter-widgets/base",
      "_view_module_version": "1.2.0",
      "_view_name": "StyleView",
      "bar_color": null,
      "description_width": ""
     }
    },
    "3169db91d4ed4369bd64d0081473897c": {
     "model_module": "@jupyter-widgets/controls",
     "model_module_version": "1.5.0",
     "model_name": "HTMLModel",
     "state": {
      "_dom_classes": [],
      "_model_module": "@jupyter-widgets/controls",
      "_model_module_version": "1.5.0",
      "_model_name": "HTMLModel",
      "_view_count": null,
      "_view_module": "@jupyter-widgets/controls",
      "_view_module_version": "1.5.0",
      "_view_name": "HTMLView",
      "description": "",
      "description_tooltip": null,
      "layout": "IPY_MODEL_d48f54b9106948f893a5f26a58549d87",
      "placeholder": "​",
      "style": "IPY_MODEL_6a0a191fd3384dce89a72bc699038bb0",
      "value": "Tokenizing X_train: 100%"
     }
    },
    "50ce318b2f91419f952c949fac8df51b": {
     "model_module": "@jupyter-widgets/base",
     "model_module_version": "1.2.0",
     "model_name": "LayoutModel",
     "state": {
      "_model_module": "@jupyter-widgets/base",
      "_model_module_version": "1.2.0",
      "_model_name": "LayoutModel",
      "_view_count": null,
      "_view_module": "@jupyter-widgets/base",
      "_view_module_version": "1.2.0",
      "_view_name": "LayoutView",
      "align_content": null,
      "align_items": null,
      "align_self": null,
      "border": null,
      "bottom": null,
      "display": null,
      "flex": null,
      "flex_flow": null,
      "grid_area": null,
      "grid_auto_columns": null,
      "grid_auto_flow": null,
      "grid_auto_rows": null,
      "grid_column": null,
      "grid_gap": null,
      "grid_row": null,
      "grid_template_areas": null,
      "grid_template_columns": null,
      "grid_template_rows": null,
      "height": null,
      "justify_content": null,
      "justify_items": null,
      "left": null,
      "margin": null,
      "max_height": null,
      "max_width": null,
      "min_height": null,
      "min_width": null,
      "object_fit": null,
      "object_position": null,
      "order": null,
      "overflow": null,
      "overflow_x": null,
      "overflow_y": null,
      "padding": null,
      "right": null,
      "top": null,
      "visibility": null,
      "width": null
     }
    },
    "575f628ed4cd470ca5bea22c6e020c2f": {
     "model_module": "@jupyter-widgets/controls",
     "model_module_version": "1.5.0",
     "model_name": "DescriptionStyleModel",
     "state": {
      "_model_module": "@jupyter-widgets/controls",
      "_model_module_version": "1.5.0",
      "_model_name": "DescriptionStyleModel",
      "_view_count": null,
      "_view_module": "@jupyter-widgets/base",
      "_view_module_version": "1.2.0",
      "_view_name": "StyleView",
      "description_width": ""
     }
    },
    "6a0a191fd3384dce89a72bc699038bb0": {
     "model_module": "@jupyter-widgets/controls",
     "model_module_version": "1.5.0",
     "model_name": "DescriptionStyleModel",
     "state": {
      "_model_module": "@jupyter-widgets/controls",
      "_model_module_version": "1.5.0",
      "_model_name": "DescriptionStyleModel",
      "_view_count": null,
      "_view_module": "@jupyter-widgets/base",
      "_view_module_version": "1.2.0",
      "_view_name": "StyleView",
      "description_width": ""
     }
    },
    "79bd0482f4474b438cd8a7128e3224ec": {
     "model_module": "@jupyter-widgets/base",
     "model_module_version": "1.2.0",
     "model_name": "LayoutModel",
     "state": {
      "_model_module": "@jupyter-widgets/base",
      "_model_module_version": "1.2.0",
      "_model_name": "LayoutModel",
      "_view_count": null,
      "_view_module": "@jupyter-widgets/base",
      "_view_module_version": "1.2.0",
      "_view_name": "LayoutView",
      "align_content": null,
      "align_items": null,
      "align_self": null,
      "border": null,
      "bottom": null,
      "display": null,
      "flex": null,
      "flex_flow": null,
      "grid_area": null,
      "grid_auto_columns": null,
      "grid_auto_flow": null,
      "grid_auto_rows": null,
      "grid_column": null,
      "grid_gap": null,
      "grid_row": null,
      "grid_template_areas": null,
      "grid_template_columns": null,
      "grid_template_rows": null,
      "height": null,
      "justify_content": null,
      "justify_items": null,
      "left": null,
      "margin": null,
      "max_height": null,
      "max_width": null,
      "min_height": null,
      "min_width": null,
      "object_fit": null,
      "object_position": null,
      "order": null,
      "overflow": null,
      "overflow_x": null,
      "overflow_y": null,
      "padding": null,
      "right": null,
      "top": null,
      "visibility": null,
      "width": null
     }
    },
    "8d76bd3e4da8406e819dd8fd54261bea": {
     "model_module": "@jupyter-widgets/base",
     "model_module_version": "1.2.0",
     "model_name": "LayoutModel",
     "state": {
      "_model_module": "@jupyter-widgets/base",
      "_model_module_version": "1.2.0",
      "_model_name": "LayoutModel",
      "_view_count": null,
      "_view_module": "@jupyter-widgets/base",
      "_view_module_version": "1.2.0",
      "_view_name": "LayoutView",
      "align_content": null,
      "align_items": null,
      "align_self": null,
      "border": null,
      "bottom": null,
      "display": null,
      "flex": null,
      "flex_flow": null,
      "grid_area": null,
      "grid_auto_columns": null,
      "grid_auto_flow": null,
      "grid_auto_rows": null,
      "grid_column": null,
      "grid_gap": null,
      "grid_row": null,
      "grid_template_areas": null,
      "grid_template_columns": null,
      "grid_template_rows": null,
      "height": null,
      "justify_content": null,
      "justify_items": null,
      "left": null,
      "margin": null,
      "max_height": null,
      "max_width": null,
      "min_height": null,
      "min_width": null,
      "object_fit": null,
      "object_position": null,
      "order": null,
      "overflow": null,
      "overflow_x": null,
      "overflow_y": null,
      "padding": null,
      "right": null,
      "top": null,
      "visibility": null,
      "width": null
     }
    },
    "95c8a351eb1d4634a16f80300e40139c": {
     "model_module": "@jupyter-widgets/controls",
     "model_module_version": "1.5.0",
     "model_name": "ProgressStyleModel",
     "state": {
      "_model_module": "@jupyter-widgets/controls",
      "_model_module_version": "1.5.0",
      "_model_name": "ProgressStyleModel",
      "_view_count": null,
      "_view_module": "@jupyter-widgets/base",
      "_view_module_version": "1.2.0",
      "_view_name": "StyleView",
      "bar_color": null,
      "description_width": ""
     }
    },
    "a36b64fdc0b34e10bf2e614ab6dd6e63": {
     "model_module": "@jupyter-widgets/base",
     "model_module_version": "1.2.0",
     "model_name": "LayoutModel",
     "state": {
      "_model_module": "@jupyter-widgets/base",
      "_model_module_version": "1.2.0",
      "_model_name": "LayoutModel",
      "_view_count": null,
      "_view_module": "@jupyter-widgets/base",
      "_view_module_version": "1.2.0",
      "_view_name": "LayoutView",
      "align_content": null,
      "align_items": null,
      "align_self": null,
      "border": null,
      "bottom": null,
      "display": null,
      "flex": null,
      "flex_flow": null,
      "grid_area": null,
      "grid_auto_columns": null,
      "grid_auto_flow": null,
      "grid_auto_rows": null,
      "grid_column": null,
      "grid_gap": null,
      "grid_row": null,
      "grid_template_areas": null,
      "grid_template_columns": null,
      "grid_template_rows": null,
      "height": null,
      "justify_content": null,
      "justify_items": null,
      "left": null,
      "margin": null,
      "max_height": null,
      "max_width": null,
      "min_height": null,
      "min_width": null,
      "object_fit": null,
      "object_position": null,
      "order": null,
      "overflow": null,
      "overflow_x": null,
      "overflow_y": null,
      "padding": null,
      "right": null,
      "top": null,
      "visibility": null,
      "width": null
     }
    },
    "b83dbb6a609e4add91a3f4f6f7e5ba03": {
     "model_module": "@jupyter-widgets/controls",
     "model_module_version": "1.5.0",
     "model_name": "DescriptionStyleModel",
     "state": {
      "_model_module": "@jupyter-widgets/controls",
      "_model_module_version": "1.5.0",
      "_model_name": "DescriptionStyleModel",
      "_view_count": null,
      "_view_module": "@jupyter-widgets/base",
      "_view_module_version": "1.2.0",
      "_view_name": "StyleView",
      "description_width": ""
     }
    },
    "bf7667047d9c413eb52198ef1cb904ed": {
     "model_module": "@jupyter-widgets/controls",
     "model_module_version": "1.5.0",
     "model_name": "DescriptionStyleModel",
     "state": {
      "_model_module": "@jupyter-widgets/controls",
      "_model_module_version": "1.5.0",
      "_model_name": "DescriptionStyleModel",
      "_view_count": null,
      "_view_module": "@jupyter-widgets/base",
      "_view_module_version": "1.2.0",
      "_view_name": "StyleView",
      "description_width": ""
     }
    },
    "c24b82a9dea749cab505c55d4691e001": {
     "model_module": "@jupyter-widgets/controls",
     "model_module_version": "1.5.0",
     "model_name": "HBoxModel",
     "state": {
      "_dom_classes": [],
      "_model_module": "@jupyter-widgets/controls",
      "_model_module_version": "1.5.0",
      "_model_name": "HBoxModel",
      "_view_count": null,
      "_view_module": "@jupyter-widgets/controls",
      "_view_module_version": "1.5.0",
      "_view_name": "HBoxView",
      "box_style": "",
      "children": [
       "IPY_MODEL_3169db91d4ed4369bd64d0081473897c",
       "IPY_MODEL_1d12af97b8874475b3491875173a1c99",
       "IPY_MODEL_11f1afc6482241d0bcd1a99b3faf977d"
      ],
      "layout": "IPY_MODEL_f816b28029dd446f8381fb38a02786f3"
     }
    },
    "c50787a958a94ed5afd0aca3d42608ee": {
     "model_module": "@jupyter-widgets/base",
     "model_module_version": "1.2.0",
     "model_name": "LayoutModel",
     "state": {
      "_model_module": "@jupyter-widgets/base",
      "_model_module_version": "1.2.0",
      "_model_name": "LayoutModel",
      "_view_count": null,
      "_view_module": "@jupyter-widgets/base",
      "_view_module_version": "1.2.0",
      "_view_name": "LayoutView",
      "align_content": null,
      "align_items": null,
      "align_self": null,
      "border": null,
      "bottom": null,
      "display": null,
      "flex": null,
      "flex_flow": null,
      "grid_area": null,
      "grid_auto_columns": null,
      "grid_auto_flow": null,
      "grid_auto_rows": null,
      "grid_column": null,
      "grid_gap": null,
      "grid_row": null,
      "grid_template_areas": null,
      "grid_template_columns": null,
      "grid_template_rows": null,
      "height": null,
      "justify_content": null,
      "justify_items": null,
      "left": null,
      "margin": null,
      "max_height": null,
      "max_width": null,
      "min_height": null,
      "min_width": null,
      "object_fit": null,
      "object_position": null,
      "order": null,
      "overflow": null,
      "overflow_x": null,
      "overflow_y": null,
      "padding": null,
      "right": null,
      "top": null,
      "visibility": null,
      "width": null
     }
    },
    "cbb7d88d8ccf4dfba3a32fb6c5aa6ec4": {
     "model_module": "@jupyter-widgets/base",
     "model_module_version": "1.2.0",
     "model_name": "LayoutModel",
     "state": {
      "_model_module": "@jupyter-widgets/base",
      "_model_module_version": "1.2.0",
      "_model_name": "LayoutModel",
      "_view_count": null,
      "_view_module": "@jupyter-widgets/base",
      "_view_module_version": "1.2.0",
      "_view_name": "LayoutView",
      "align_content": null,
      "align_items": null,
      "align_self": null,
      "border": null,
      "bottom": null,
      "display": null,
      "flex": null,
      "flex_flow": null,
      "grid_area": null,
      "grid_auto_columns": null,
      "grid_auto_flow": null,
      "grid_auto_rows": null,
      "grid_column": null,
      "grid_gap": null,
      "grid_row": null,
      "grid_template_areas": null,
      "grid_template_columns": null,
      "grid_template_rows": null,
      "height": null,
      "justify_content": null,
      "justify_items": null,
      "left": null,
      "margin": null,
      "max_height": null,
      "max_width": null,
      "min_height": null,
      "min_width": null,
      "object_fit": null,
      "object_position": null,
      "order": null,
      "overflow": null,
      "overflow_x": null,
      "overflow_y": null,
      "padding": null,
      "right": null,
      "top": null,
      "visibility": null,
      "width": null
     }
    },
    "d48f54b9106948f893a5f26a58549d87": {
     "model_module": "@jupyter-widgets/base",
     "model_module_version": "1.2.0",
     "model_name": "LayoutModel",
     "state": {
      "_model_module": "@jupyter-widgets/base",
      "_model_module_version": "1.2.0",
      "_model_name": "LayoutModel",
      "_view_count": null,
      "_view_module": "@jupyter-widgets/base",
      "_view_module_version": "1.2.0",
      "_view_name": "LayoutView",
      "align_content": null,
      "align_items": null,
      "align_self": null,
      "border": null,
      "bottom": null,
      "display": null,
      "flex": null,
      "flex_flow": null,
      "grid_area": null,
      "grid_auto_columns": null,
      "grid_auto_flow": null,
      "grid_auto_rows": null,
      "grid_column": null,
      "grid_gap": null,
      "grid_row": null,
      "grid_template_areas": null,
      "grid_template_columns": null,
      "grid_template_rows": null,
      "height": null,
      "justify_content": null,
      "justify_items": null,
      "left": null,
      "margin": null,
      "max_height": null,
      "max_width": null,
      "min_height": null,
      "min_width": null,
      "object_fit": null,
      "object_position": null,
      "order": null,
      "overflow": null,
      "overflow_x": null,
      "overflow_y": null,
      "padding": null,
      "right": null,
      "top": null,
      "visibility": null,
      "width": null
     }
    },
    "f816b28029dd446f8381fb38a02786f3": {
     "model_module": "@jupyter-widgets/base",
     "model_module_version": "1.2.0",
     "model_name": "LayoutModel",
     "state": {
      "_model_module": "@jupyter-widgets/base",
      "_model_module_version": "1.2.0",
      "_model_name": "LayoutModel",
      "_view_count": null,
      "_view_module": "@jupyter-widgets/base",
      "_view_module_version": "1.2.0",
      "_view_name": "LayoutView",
      "align_content": null,
      "align_items": null,
      "align_self": null,
      "border": null,
      "bottom": null,
      "display": null,
      "flex": null,
      "flex_flow": null,
      "grid_area": null,
      "grid_auto_columns": null,
      "grid_auto_flow": null,
      "grid_auto_rows": null,
      "grid_column": null,
      "grid_gap": null,
      "grid_row": null,
      "grid_template_areas": null,
      "grid_template_columns": null,
      "grid_template_rows": null,
      "height": null,
      "justify_content": null,
      "justify_items": null,
      "left": null,
      "margin": null,
      "max_height": null,
      "max_width": null,
      "min_height": null,
      "min_width": null,
      "object_fit": null,
      "object_position": null,
      "order": null,
      "overflow": null,
      "overflow_x": null,
      "overflow_y": null,
      "padding": null,
      "right": null,
      "top": null,
      "visibility": null,
      "width": null
     }
    }
   }
  }
 },
 "nbformat": 4,
 "nbformat_minor": 4
}
